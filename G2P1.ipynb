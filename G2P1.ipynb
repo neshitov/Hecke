{
 "cells": [
  {
   "cell_type": "markdown",
   "metadata": {},
   "source": [
    "Integral decomposition of versal form of $G_2/P_1$\n",
    "=======================================\n",
    "\n",
    "In this notebook we will use the Integral motivic decompositions package to obtain motivic decompositions of versal homogeneous space of type $G_2/P_1$. Load the integral motivic decomposition module\n",
    "```\n",
    "from sage.all import *\n",
    "import itertools\n",
    "import Integral_motivic_decomposition as md\n",
    "```\n",
    "Initialize the Root system, Demazure operators, coefficient ring, etc:\n",
    "```\n",
    "L=RootSystem(['G',2]).root_lattice()\n",
    "I_P=[2]\n",
    "Cartan,W,WP,reduced,w0,e,s,sP,max_length,length_list,block_dim,pivots,raising,S,a,Hasse=md.init(L,I_P)\n",
    "```\n",
    "Find the diagonals of all basis endomorphisms:\n",
    "```\n",
    "ind=md.endomorphism_basis_indices(0)\n",
    "diags=[md.augmented_diagonal(x[0],x[1],0) for x in ind]\n",
    "diags=md.remove_duplicates(diags)\n",
    "for x in diags:\n",
    "    print(x)\n",
    "```\n",
    "The output is\n",
    "* [[0], [-1], [0], [2], [3], [2]]\n",
    "* [[0], [0], [-3], [-6], [-6], [-3]]\n",
    "* [[0], [0], [0], [-6], [-6], [0]]\n",
    "* [[0], [0], [0], [-2], [-4], [-2]]\n",
    "* [[0], [0], [0], [0], [0], [-6]]\n",
    "* [[0], [0], [0], [0], [0], [18]]\n",
    "* [[0], [0], [0], [0], [0], [32]]\n",
    "* [[0], [0], [0], [0], [18], [18]]\n",
    "* [[0], [0], [0], [4], [6], [2]]\n",
    "* [[0], [0], [0], [6], [0], [-6]]\n",
    "* [[0], [1], [1], [0], [-1], [-1]]\n",
    "* [[1], [1], [1], [1], [1], [1]]\n",
    "\n",
    "\n",
    "Reducing we'll see\n",
    "\n",
    "* [[0], [1], [0], [0], [1], [0]]\n",
    "* [[0], [0], [0], [2], [0], [0]]\n",
    "* [[0], [0], [0], [0], [0], [2]]\n",
    "* [[0], [0], [0], [0], [2], [0]]\n",
    "* [[0], [0], [1], [0], [0], [1]]\n",
    "* [[1], [0], [0], [1], [0], [0]]\n",
    "\n",
    "\n",
    "Three summands"
   ]
  },
  {
   "cell_type": "markdown",
   "metadata": {},
   "source": []
  },
  {
   "cell_type": "code",
   "execution_count": null,
   "metadata": {},
   "outputs": [],
   "source": []
  }
 ],
 "metadata": {
  "kernelspec": {
   "display_name": "Python 3",
   "language": "python",
   "name": "python3"
  },
  "language_info": {
   "codemirror_mode": {
    "name": "ipython",
    "version": 3
   },
   "file_extension": ".py",
   "mimetype": "text/x-python",
   "name": "python",
   "nbconvert_exporter": "python",
   "pygments_lexer": "ipython3",
   "version": "3.6.5"
  }
 },
 "nbformat": 4,
 "nbformat_minor": 2
}
